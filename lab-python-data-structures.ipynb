{
 "cells": [
  {
   "cell_type": "markdown",
   "metadata": {
    "tags": []
   },
   "source": [
    "# Lab | Data Structures "
   ]
  },
  {
   "cell_type": "markdown",
   "metadata": {},
   "source": [
    "## Exercise: Managing Customer Orders\n",
    "\n",
    "As part of a business venture, you are starting an online store that sells various products. To ensure smooth operations, you need to develop a program that manages customer orders and inventory.\n",
    "\n",
    "Follow the steps below to complete the exercise:\n",
    "\n",
    "1. Define a list called `products` that contains the following items: \"t-shirt\", \"mug\", \"hat\", \"book\", \"keychain\".\n",
    "\n",
    "2. Create an empty dictionary called `inventory`.\n",
    "\n",
    "3. Ask the user to input the quantity of each product available in the inventory. Use the product names from the `products` list as keys in the `inventory` dictionary and assign the respective quantities as values.\n",
    "\n",
    "4. Create an empty set called `customer_orders`.\n",
    "\n",
    "5. Ask the user to input the name of three products that a customer wants to order (from those in the products list, meaning three products out of \"t-shirt\", \"mug\", \"hat\", \"book\" or \"keychain\". Add each product name to the `customer_orders` set.\n",
    "\n",
    "6. Print the products in the `customer_orders` set.\n",
    "\n",
    "7. Calculate the following order statistics:\n",
    "   - Total Products Ordered: The total number of products in the `customer_orders` set.\n",
    "   - Percentage of Products Ordered: The percentage of products ordered compared to the total available products.\n",
    "   \n",
    "   Store these statistics in a tuple called `order_status`.\n",
    "\n",
    "8. Print the order statistics using the following format:\n",
    "   ```\n",
    "   Order Statistics:\n",
    "   Total Products Ordered: <total_products_ordered>\n",
    "   Percentage of Products Ordered: <percentage_ordered>% \n",
    "   ```\n",
    "\n",
    "9. Update the inventory by subtracting 1 from the quantity of each product. Modify the `inventory` dictionary accordingly.\n",
    "\n",
    "10. Print the updated inventory, displaying the quantity of each product on separate lines.\n",
    "\n",
    "Solve the exercise by implementing the steps using the Python concepts of lists, dictionaries, sets, and basic input/output operations. "
   ]
  },
  {
   "cell_type": "code",
   "execution_count": 2,
   "metadata": {},
   "outputs": [
    {
     "name": "stdout",
     "output_type": "stream",
     "text": [
      "{'t-shirt': 5, 'mug': 4, 'hat': 3, 'book': 2, 'keychain': 1}\n"
     ]
    }
   ],
   "source": [
    "# define product list\n",
    "products = [\"t-shirt\", \"mug\", \"hat\", \"book\", \"keychain\"]\n",
    "# create inventory dictionary with user input\n",
    "inventory = {}\n",
    "for k in products:\n",
    "    #ask user to enter quantity for each product and store in invetory dictionary\n",
    "    inventory[k] = int(input(\"Enter quantity of \" + k))\n",
    "print(inventory)"
   ]
  },
  {
   "cell_type": "code",
   "execution_count": 3,
   "metadata": {},
   "outputs": [
    {
     "name": "stdout",
     "output_type": "stream",
     "text": [
      "Enter the names of three products you want to order from the following list: \n",
      "-t-shirt\n",
      "-mug\n",
      "-hat\n",
      "-book\n",
      "-keychain\n",
      "{'book', 'hat', 'mug'}\n"
     ]
    }
   ],
   "source": [
    "# create set to store customer orders\n",
    "customer_orders = set()\n",
    "\n",
    "# ask user to enter product names and show list of available products\n",
    "print(\"Enter the names of three products you want to order from the following list: \")\n",
    "for k in products:\n",
    "    print(\"-\" + k)\n",
    "for k in [1, 2, 3]:\n",
    "    new_ordered_item = input(\"Product \" + str(k) + \":\")\n",
    "    # add ordered item to et\n",
    "    customer_orders.add(new_ordered_item)\n",
    "\n",
    "#print customer orders\n",
    "print(customer_orders)"
   ]
  },
  {
   "cell_type": "code",
   "execution_count": 4,
   "metadata": {},
   "outputs": [
    {
     "name": "stdout",
     "output_type": "stream",
     "text": [
      "Order Statistics:\n",
      "Total Products Ordered: 15\n",
      "Percentage of Products Ordered: 20%\n"
     ]
    }
   ],
   "source": [
    "# create variables to store order statistics\n",
    "total_products_ordered = len(customer_orders)\n",
    "total_products_available = 0\n",
    "percentage_of_products_ordered = 0\n",
    "# calculate order statistics from inventory and customer data\n",
    "for k in products:\n",
    "    total_products_available += inventory[k]\n",
    "percentage_of_products_ordered = round(total_products_ordered / total_products_available * 100)\n",
    "#store order statistics in tuple\n",
    "order_status = (total_products_available, percentage_of_products_ordered)\n",
    "\n",
    "#print order statistics\n",
    "print(\"Order Statistics:\")\n",
    "print(\"Total Products Ordered: \" + str(order_status[0]))\n",
    "print(\"Percentage of Products Ordered: \" + str(order_status[1]) + \"%\")"
   ]
  },
  {
   "cell_type": "code",
   "execution_count": 5,
   "metadata": {},
   "outputs": [
    {
     "name": "stdout",
     "output_type": "stream",
     "text": [
      "Inventory has been updated:\n",
      "t-shirt: 5\n",
      "mug: 3\n",
      "hat: 2\n",
      "book: 1\n",
      "keychain: 1\n"
     ]
    }
   ],
   "source": [
    "# subtract 1 from the quantity of every ordered item in the inventory\n",
    "print(\"Inventory has been updated:\")\n",
    "for k in products:\n",
    "    if k in customer_orders:\n",
    "        inventory[k] = inventory[k] - 1\n",
    "    print(k + \": \" + str(inventory[k]))"
   ]
  }
 ],
 "metadata": {
  "kernelspec": {
   "display_name": "Python 3 (ipykernel)",
   "language": "python",
   "name": "python3"
  },
  "language_info": {
   "codemirror_mode": {
    "name": "ipython",
    "version": 3
   },
   "file_extension": ".py",
   "mimetype": "text/x-python",
   "name": "python",
   "nbconvert_exporter": "python",
   "pygments_lexer": "ipython3",
   "version": "3.11.7"
  }
 },
 "nbformat": 4,
 "nbformat_minor": 4
}
